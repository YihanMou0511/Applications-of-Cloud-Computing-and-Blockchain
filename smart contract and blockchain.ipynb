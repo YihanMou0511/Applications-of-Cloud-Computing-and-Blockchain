{
 "cells": [
  {
   "cell_type": "markdown",
   "id": "61b2119a",
   "metadata": {},
   "source": [
    "# Q1.) : Deploy a the Smart Contract using remix and Ganache"
   ]
  },
  {
   "cell_type": "code",
   "execution_count": 1,
   "id": "5285c6aa",
   "metadata": {},
   "outputs": [],
   "source": [
    "from web3 import Web3"
   ]
  },
  {
   "cell_type": "code",
   "execution_count": 2,
   "id": "8f07ede3",
   "metadata": {},
   "outputs": [],
   "source": [
    "import json"
   ]
  },
  {
   "cell_type": "code",
   "execution_count": 3,
   "id": "dc74f1a9",
   "metadata": {},
   "outputs": [],
   "source": [
    "node_provider = \"HTTP://127.0.0.1:7545\"\n",
    "PRIVATE_KEY_1 = \"0xdfc188de0ea7cc54a9d3d7c53d86a68bd8f209e9e13c4c141ad1e4497b35dd9f\"\n",
    "PRIVATE_KEY_2 = \"0x5296bacef2a48ad03b9c467e3e1bad35448a14d05d8e1c1345c336972359b4b6\"\n",
    "ADDRESS_1 = \"0x96Ed7218c46c756D1d04eE799f0018d08506143d\"\n",
    "ADDRESS_2 = \"0xbDD575D2ba61B2202316Ac9D04e8E2E30a75e31d\""
   ]
  },
  {
   "cell_type": "code",
   "execution_count": 4,
   "id": "a3bce571",
   "metadata": {},
   "outputs": [],
   "source": [
    "web3_connection = Web3(Web3.HTTPProvider(node_provider))"
   ]
  },
  {
   "cell_type": "code",
   "execution_count": 5,
   "id": "bf228605",
   "metadata": {},
   "outputs": [],
   "source": [
    "contract_abi = '[{\"inputs\":[{\"internalType\":\"uint256\",\"name\":\"_threshold\",\"type\":\"uint256\"},{\"internalType\":\"address payable\",\"name\":\"_insurer\",\"type\":\"address\"}],\"stateMutability\":\"payable\",\"type\":\"constructor\"},{\"inputs\":[{\"internalType\":\"address payable\",\"name\":\"_insured\",\"type\":\"address\"}],\"name\":\"buy_insurance\",\"outputs\":[],\"stateMutability\":\"payable\",\"type\":\"function\"},{\"inputs\":[],\"name\":\"currState\",\"outputs\":[{\"internalType\":\"enum inflation_insurance.State\",\"name\":\"\",\"type\":\"uint8\"}],\"stateMutability\":\"view\",\"type\":\"function\"},{\"inputs\":[{\"internalType\":\"uint256\",\"name\":\"_inflationNumber\",\"type\":\"uint256\"}],\"name\":\"inflation_reading\",\"outputs\":[{\"internalType\":\"uint256\",\"name\":\"\",\"type\":\"uint256\"}],\"stateMutability\":\"payable\",\"type\":\"function\"}]'\n",
    "contract_bytecode = '0x60806040526040516107a23803806107a283398181016040528101906100259190610129565b670de0b6b3a764000034101561003a57600080fd5b816000819055503460018190555080600260006101000a81548173ffffffffffffffffffffffffffffffffffffffff021916908373ffffffffffffffffffffffffffffffffffffffff1602179055505050610169565b600080fd5b6000819050919050565b6100a881610095565b81146100b357600080fd5b50565b6000815190506100c58161009f565b92915050565b600073ffffffffffffffffffffffffffffffffffffffff82169050919050565b60006100f6826100cb565b9050919050565b610106816100eb565b811461011157600080fd5b50565b600081519050610123816100fd565b92915050565b600080604083850312156101405761013f610090565b5b600061014e858286016100b6565b925050602061015f85828601610114565b9150509250929050565b61062a806101786000396000f3fe6080604052600436106100345760003560e01c8063313a83e71461003957806368b489ad14610069578063afe0104314610085575b600080fd5b610053600480360381019061004e9190610334565b6100b0565b6040516100609190610370565b60405180910390f35b610083600480360381019061007e91906103e9565b6101a2565b005b34801561009157600080fd5b5061009a6102e6565b6040516100a7919061048d565b60405180910390f35b6000805482111561012e57600360009054906101000a900473ffffffffffffffffffffffffffffffffffffffff1673ffffffffffffffffffffffffffffffffffffffff166108fc479081150290604051600060405180830381858888f19350505050158015610123573d6000803e3d6000fd5b50600154905061019d565b600360009054906101000a900473ffffffffffffffffffffffffffffffffffffffff1673ffffffffffffffffffffffffffffffffffffffff166108fc479081150290604051600060405180830381858888f19350505050158015610196573d6000803e3d6000fd5b5060015490505b919050565b600060018111156101b6576101b5610416565b5b600360149054906101000a900460ff1660018111156101d8576101d7610416565b5b14610218576040517f08c379a000000000000000000000000000000000000000000000000000000000815260040161020f90610505565b60405180910390fd5b6706f05b59d3b20000341015610263576040517f08c379a000000000000000000000000000000000000000000000000000000000815260040161025a90610571565b60405180910390fd5b80600360006101000a81548173ffffffffffffffffffffffffffffffffffffffff021916908373ffffffffffffffffffffffffffffffffffffffff1602179055506001600360146101000a81548160ff021916908360018111156102ca576102c9610416565b5b0217905550346001546102dd91906105c0565b60018190555050565b600360149054906101000a900460ff1681565b600080fd5b6000819050919050565b610311816102fe565b811461031c57600080fd5b50565b60008135905061032e81610308565b92915050565b60006020828403121561034a576103496102f9565b5b60006103588482850161031f565b91505092915050565b61036a816102fe565b82525050565b60006020820190506103856000830184610361565b92915050565b600073ffffffffffffffffffffffffffffffffffffffff82169050919050565b60006103b68261038b565b9050919050565b6103c6816103ab565b81146103d157600080fd5b50565b6000813590506103e3816103bd565b92915050565b6000602082840312156103ff576103fe6102f9565b5b600061040d848285016103d4565b91505092915050565b7f4e487b7100000000000000000000000000000000000000000000000000000000600052602160045260246000fd5b6002811061045657610455610416565b5b50565b600081905061046782610445565b919050565b600061047782610459565b9050919050565b6104878161046c565b82525050565b60006020820190506104a2600083018461047e565b92915050565b600082825260208201905092915050565b7f496e737572616e636520506f6c69637920507572636861736564000000000000600082015250565b60006104ef601a836104a8565b91506104fa826104b9565b602082019050919050565b6000602082019050818103600083015261051e816104e2565b9050919050565b7f506179202e35204554482061732061206f6e652074696d65207072656d69756d600082015250565b600061055b6020836104a8565b915061056682610525565b602082019050919050565b6000602082019050818103600083015261058a8161054e565b9050919050565b7f4e487b7100000000000000000000000000000000000000000000000000000000600052601160045260246000fd5b60006105cb826102fe565b91506105d6836102fe565b92508282019050808211156105ee576105ed610591565b5b9291505056fea2646970667358221220eeda9eabb7e51f78576ec52eb11c2e9eefb36c4a8ece56231279e1c4832559be64736f6c63430008120033'"
   ]
  },
  {
   "cell_type": "code",
   "execution_count": 6,
   "id": "8359911c",
   "metadata": {},
   "outputs": [],
   "source": [
    "contract_abi = json.loads(contract_abi)"
   ]
  },
  {
   "cell_type": "code",
   "execution_count": 7,
   "id": "6b7aadf1",
   "metadata": {},
   "outputs": [],
   "source": [
    "def get_nonce(ETH_address):\n",
    "    return(web3_connection.eth.get_transaction_count(ETH_address))\n",
    "\n",
    "def deploy_contract(threshold, amount_ETH, owner, signature):\n",
    "    inflation_insurance = web3_connection.eth.contract(abi=contract_abi, bytecode=contract_bytecode)\n",
    "    transaction_body = {\n",
    "        \"nonce\" : get_nonce(owner),\n",
    "        \"value\" : int(web3_connection.to_wei(amount_ETH, 'ether')),\n",
    "        \"gasPrice\": web3_connection.eth.gas_price\n",
    "    }\n",
    "    deployment = inflation_insurance.constructor(threshold, owner).build_transaction(transaction_body)\n",
    "    signed_transaction = web3_connection.eth.account.sign_transaction(deployment, signature)\n",
    "    result = web3_connection.eth.send_raw_transaction(signed_transaction.rawTransaction)\n",
    "    return(result)"
   ]
  },
  {
   "cell_type": "code",
   "execution_count": 8,
   "id": "3351c2c3",
   "metadata": {},
   "outputs": [
    {
     "data": {
      "text/plain": [
       "HexBytes('0x53b1faba5c39d0f0260aca64d24240f593b781f687f7bfd6f51dd4ea398e3ad0')"
      ]
     },
     "execution_count": 8,
     "metadata": {},
     "output_type": "execute_result"
    }
   ],
   "source": [
    "deploy_contract(5, 1, ADDRESS_1, PRIVATE_KEY_1)"
   ]
  },
  {
   "cell_type": "markdown",
   "id": "72fbdc71",
   "metadata": {},
   "source": [
    "# Q2.) Interact with the smart contract using Python. Have two wallets enter into a inflation insurance agreement and have one receive a payout"
   ]
  },
  {
   "cell_type": "code",
   "execution_count": 9,
   "id": "dcad788f",
   "metadata": {},
   "outputs": [],
   "source": [
    "contract_address = '0xE023eF098725c0cBf2352D6276e4724aE1879EAa'"
   ]
  },
  {
   "cell_type": "code",
   "execution_count": 10,
   "id": "3c6e595e",
   "metadata": {},
   "outputs": [],
   "source": [
    "def buy_policy(player, amount_ETH, signature):\n",
    "    contract = web3_connection.eth.contract(address = contract_address, abi=contract_abi)\n",
    "    transaction_body = {\n",
    "        'nonce' : get_nonce(player),\n",
    "        \"value\" : int(web3_connection.to_wei(amount_ETH, 'ether')),\n",
    "        \"gasPrice\": web3_connection.eth.gas_price\n",
    "    }\n",
    "    function_call = contract.functions.buy_insurance(player).build_transaction(transaction_body)\n",
    "    signed_transaction = web3_connection.eth.account.sign_transaction(function_call, signature)\n",
    "    result = web3_connection.eth.send_raw_transaction(signed_transaction.rawTransaction)\n",
    "    return(result)"
   ]
  },
  {
   "cell_type": "code",
   "execution_count": 11,
   "id": "4f4db49b",
   "metadata": {},
   "outputs": [
    {
     "data": {
      "text/plain": [
       "HexBytes('0x2d4e4517a9aaa3d7b0179b8feab0072ca74e260ab5feacc1710f1db70ac3a9a9')"
      ]
     },
     "execution_count": 11,
     "metadata": {},
     "output_type": "execute_result"
    }
   ],
   "source": [
    "buy_policy(ADDRESS_2,.5,PRIVATE_KEY_2)"
   ]
  },
  {
   "cell_type": "code",
   "execution_count": 12,
   "id": "995750a0",
   "metadata": {},
   "outputs": [],
   "source": [
    "def inflation_reading(player, inflation, signature):\n",
    "    contract = web3_connection.eth.contract(address = contract_address, abi=contract_abi)\n",
    "    transaction_body = {\n",
    "        'nonce' : get_nonce(player),\n",
    "        \"gasPrice\": web3_connection.eth.gas_price\n",
    "    }\n",
    "    function_call = contract.functions.inflation_reading(inflation).build_transaction(transaction_body)\n",
    "    signed_transaction = web3_connection.eth.account.sign_transaction(function_call, signature)\n",
    "    result = web3_connection.eth.send_raw_transaction(signed_transaction.rawTransaction)\n",
    "    return(result)"
   ]
  },
  {
   "cell_type": "code",
   "execution_count": 13,
   "id": "3232f0a0",
   "metadata": {},
   "outputs": [
    {
     "data": {
      "text/plain": [
       "HexBytes('0xc1b5a35467bfa77c0677e7dba053b2291068ad1cece64aa70b1bb9ffac9ace38')"
      ]
     },
     "execution_count": 13,
     "metadata": {},
     "output_type": "execute_result"
    }
   ],
   "source": [
    "inflation_reading(ADDRESS_2, 100,PRIVATE_KEY_2)"
   ]
  },
  {
   "cell_type": "markdown",
   "id": "8602cd34",
   "metadata": {},
   "source": [
    "# Q3.) Pick a topic from the list and write a paragraph on how Blockchain could make the industry more efficient https://docs.google.com/spreadsheets/d/1q1C6RGkuZIpQQqIFAh5xt79ld1eGnTcWtOg1mITqMAI/edit?usp=sharing"
   ]
  },
  {
   "cell_type": "markdown",
   "id": "59476553",
   "metadata": {},
   "source": [
    "Real estate industry\n",
    "\n",
    "Blockchain technology has the potential to revolutionize the real estate industry, making it more efficient, transparent, and secure. By leveraging blockchain's decentralized and immutable nature, various aspects of real estate transactions and management can be streamlined and optimized.\n",
    "\n",
    "One key area where blockchain can enhance efficiency is property transfer. Traditional real estate transactions often involve complex processes, numerous intermediaries, and extensive paperwork, leading to delays and high transaction costs. However, by recording property rights information on the blockchain and utilizing smart contracts, the transfer of property ownership can be expedited. Smart contracts can validate and execute transactions automatically, reducing the need for intermediaries and facilitating fast and secure transfers. This not only speeds up the overall transaction process but also significantly reduces the associated costs and minimizes the risks of fraud.\n",
    "\n",
    "Moreover, blockchain technology can greatly improve lease contract management in the real estate industry. Programmable lease contracts encoded as smart contracts can automate various aspects of lease agreements, such as rent payment and lease term management. The terms and conditions of the lease can be embedded within the smart contract, ensuring compliance by all parties and reducing the likelihood of disputes. With the automation of these processes, the administrative burden on property owners and tenants is reduced, leading to smoother and more efficient lease management.\n",
    "\n",
    "Another significant benefit of blockchain in real estate is data management. The industry relies on extensive amounts of data, including property information, transaction records, and property rights records. By utilizing blockchain and smart contracts, secure and decentralized data storage systems can be established. This ensures data immutability and traceability, enhancing data security and credibility. Real estate companies can leverage smart contract technology to efficiently manage and share real estate data, improving accuracy and eliminating redundancies. This streamlined data management process enables faster access to information, minimizes errors, and enhances overall operational efficiency.\n",
    "\n",
    "Furthermore, blockchain-based smart contracts can be applied to property management. By encoding property information and management rules into smart contracts, various property management tasks can be automated. For instance, smart contracts can automatically handle property fee collection and payment, record repair and maintenance activities, and manage tenant complaints and resolutions. By removing manual intervention and streamlining these processes, property management becomes more efficient, transparent, and accountable. Additionally, tenants and property owners can have real-time visibility into the status of property-related activities, leading to improved communication and customer satisfaction.\n",
    "\n",
    "Lastly, blockchain technology provides transaction traceability, which greatly enhances transparency and trustworthiness in the real estate industry. All transaction records, including ownership changes and transaction history, are stored on the blockchain and cannot be tampered with or deleted. This ensures a verifiable and auditable trail of real estate transactions, reducing the potential for fraudulent activities. Buyers, sellers, and other stakeholders can access complete and transparent information about the property, enhancing trust in the overall process.\n",
    "\n",
    "In conclusion, the utilization of blockchain technology has the potential to revolutionize the real estate industry by making it more efficient, transparent, and secure. From simplifying property transfers and lease contract management to improving data management and property management processes, blockchain can significantly streamline operations and reduce costs. The transparency and traceability provided by blockchain technology foster trust among stakeholders and enhance the overall credibility of the industry. By embracing blockchain, the real estate industry can unlock new levels of efficiency, enabling faster transactions, reducing complexities, and ultimately benefiting all parties involved."
   ]
  },
  {
   "cell_type": "markdown",
   "id": "d2079369",
   "metadata": {},
   "source": [
    "# Q4.) Find a company that is attempting to do this. Write a 1 paragraph summary of what they are trying to accomplish, what they have done so far and your opinion on whether you think they will succeed (or not)?"
   ]
  },
  {
   "cell_type": "markdown",
   "id": "dffe850c",
   "metadata": {},
   "source": [
    "SMARTRealty\n",
    "\n",
    "SMARTRealty aims to revolutionize the real estate industry by leveraging blockchain technology and dynamic smart contracts to create a more efficient, secure, and transparent ecosystem for property transactions. With the integration of the SMARTRealty smart contract platform and the listing platform, buyers and sellers can directly connect, eliminating the need for intermediaries like brokers and agents. The use of RLTY tokens as the primary means of transaction within the platform ensures seamless and trackable payments. The smart contracts enable parties to embed customized terms and conditions, which are then automatically enforced on the blockchain, enhancing security and trust in the process. SMARTRealty has already launched its full sales and rental platform and plans to expand gradually, taking into account the unique legal requirements of different jurisdictions.\n",
    "\n",
    "In my opinion, SMARTRealty has a promising vision for streamlining real estate transactions using blockchain technology. By addressing the inefficiencies and complexities associated with traditional real estate processes, they have the potential to bring significant benefits to buyers, sellers, and property owners. The integration of dynamic smart contracts tailored to individual needs and the removal of intermediaries can lead to faster and more transparent transactions. The focus on legal compliance in different jurisdictions demonstrates a commitment to ensuring enforceability and legitimacy of contracts. However, the success of SMARTRealty will depend on various factors, including the adoption of blockchain technology in the real estate industry, the ability to scale their platform globally, and establishing partnerships with key stakeholders in the market. Overcoming regulatory hurdles and building trust among users will be critical. Nevertheless, with a clear focus on practical application and addressing real-world needs, SMARTRealty has the potential to make a significant impact in the real estate industry if executed effectively."
   ]
  },
  {
   "cell_type": "code",
   "execution_count": null,
   "id": "b28dafab",
   "metadata": {},
   "outputs": [],
   "source": []
  }
 ],
 "metadata": {
  "kernelspec": {
   "display_name": "Python 3 (ipykernel)",
   "language": "python",
   "name": "python3"
  },
  "language_info": {
   "codemirror_mode": {
    "name": "ipython",
    "version": 3
   },
   "file_extension": ".py",
   "mimetype": "text/x-python",
   "name": "python",
   "nbconvert_exporter": "python",
   "pygments_lexer": "ipython3",
   "version": "3.9.12"
  }
 },
 "nbformat": 4,
 "nbformat_minor": 5
}
